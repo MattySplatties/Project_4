{
 "cells": [
  {
   "cell_type": "code",
   "execution_count": 36,
   "id": "37c57e8d",
   "metadata": {},
   "outputs": [],
   "source": [
    "from math import pi\n",
    "\n",
    "import pandas as pd\n",
    "\n",
    "import random\n",
    "\n",
    "from bokeh.layouts import gridplot\n",
    "from bokeh.layouts import column\n",
    "#https://docs.bokeh.org/en/latest/docs/user_guide/basic/layouts.html\n",
    "\n",
    "from bokeh.palettes import Category20c\n",
    "from bokeh.plotting import figure, show\n",
    "from bokeh.transform import cumsum"
   ]
  },
  {
   "cell_type": "code",
   "execution_count": 37,
   "id": "116ba06d",
   "metadata": {},
   "outputs": [],
   "source": [
    "#https://numpy.org/doc/stable/reference/random/generated/numpy.random.randint.html\n",
    "L = range(2)\n",
    "amount = 50\n",
    "pre= [random.choice(L) for _ in range(amount)]\n",
    "r = range(6)\n",
    "rate = [random.choice(r) for _ in range(amount)]"
   ]
  },
  {
   "cell_type": "code",
   "execution_count": 38,
   "id": "63a2ea13",
   "metadata": {},
   "outputs": [
    {
     "data": {
      "text/plain": [
       "predictions  rating\n",
       "0            0         9\n",
       "1            1         6\n",
       "             4         6\n",
       "0            1         5\n",
       "             3         4\n",
       "             2         3\n",
       "             5         3\n",
       "1            0         3\n",
       "             2         3\n",
       "             3         3\n",
       "             5         3\n",
       "0            4         2\n",
       "dtype: int64"
      ]
     },
     "execution_count": 38,
     "metadata": {},
     "output_type": "execute_result"
    }
   ],
   "source": [
    "ls = {'predictions' :pre, 'rating': rate}\n",
    "df = pd.DataFrame(ls)\n",
    "df.value_counts()"
   ]
  },
  {
   "cell_type": "code",
   "execution_count": 39,
   "id": "db5b4ac8",
   "metadata": {},
   "outputs": [
    {
     "data": {
      "text/plain": [
       "0    12\n",
       "1    11\n",
       "4     8\n",
       "3     7\n",
       "2     6\n",
       "5     6\n",
       "Name: rating, dtype: int64"
      ]
     },
     "execution_count": 39,
     "metadata": {},
     "output_type": "execute_result"
    }
   ],
   "source": [
    "df['rating'].value_counts()"
   ]
  },
  {
   "cell_type": "code",
   "execution_count": 40,
   "id": "6031181b",
   "metadata": {
    "scrolled": true
   },
   "outputs": [],
   "source": [
    "# this will take the counts of differnt yelp ratings, and put them into a dictionary for \n",
    "#that will be used to make a pie chart and a bar graph\n",
    "#https://docs.bokeh.org/en/latest/docs/examples/topics/pie/pie.html\n",
    "x = {\n",
    "    'Rated 0': df['rating'].value_counts()[0],\n",
    "    'Rated 1':df['rating'].value_counts()[1],\n",
    "    'Rated 2': df['rating'].value_counts()[2],\n",
    "    'Rated 3': df['rating'].value_counts()[3],\n",
    "    'Rated 4': df['rating'].value_counts()[4],\n",
    "    'Rated 5': df['rating'].value_counts()[5],\n",
    "    'Rated 0': df['rating'].value_counts()[0],\n",
    "}\n",
    "# after converting the ratings in the dictionary into fractions of the whole that\n",
    "#can be converted into angels for the pie chart\n",
    "\n",
    "data = pd.Series(x).reset_index(name='value').rename(columns={'index': 'rating'})\n",
    "data['angle'] = data['value']/data['value'].sum() * 2*pi\n",
    "data['color'] = Category20c[len(x)]"
   ]
  },
  {
   "cell_type": "code",
   "execution_count": 41,
   "id": "9fb61116",
   "metadata": {},
   "outputs": [
    {
     "data": {
      "text/plain": [
       "{'Rated 0': 12,\n",
       " 'Rated 1': 11,\n",
       " 'Rated 2': 6,\n",
       " 'Rated 3': 7,\n",
       " 'Rated 4': 8,\n",
       " 'Rated 5': 6}"
      ]
     },
     "execution_count": 41,
     "metadata": {},
     "output_type": "execute_result"
    }
   ],
   "source": [
    "x"
   ]
  },
  {
   "cell_type": "code",
   "execution_count": 42,
   "id": "501ece8d",
   "metadata": {},
   "outputs": [
    {
     "data": {
      "text/plain": [
       "0    26\n",
       "1    24\n",
       "Name: predictions, dtype: int64"
      ]
     },
     "execution_count": 42,
     "metadata": {},
     "output_type": "execute_result"
    }
   ],
   "source": [
    "df['predictions'].value_counts()"
   ]
  },
  {
   "cell_type": "code",
   "execution_count": 43,
   "id": "19f1b0f9",
   "metadata": {},
   "outputs": [
    {
     "data": {
      "text/plain": [
       "{'Positive': 26, 'Negative': 24}"
      ]
     },
     "execution_count": 43,
     "metadata": {},
     "output_type": "execute_result"
    }
   ],
   "source": [
    "# create dictionary for sentiment\n",
    "s = {'Positive': df['predictions'].value_counts()[0], \n",
    "     'Negative': df['predictions'].value_counts()[1]}\n",
    "s"
   ]
  },
  {
   "cell_type": "code",
   "execution_count": 44,
   "id": "5d6bcd89",
   "metadata": {},
   "outputs": [],
   "source": [
    "# transformations for sentiment pie\n",
    "d = pd.Series(s).reset_index(name='value').rename(columns={'index': 'sentiment'})\n",
    "d['angle'] = d['value']/d['value'].sum() * 2*pi\n",
    "#https://docs.bokeh.org/en/latest/docs/reference/palettes.html\n",
    "d['color'] = {1: 'crimson', 0: 'skyblue'}"
   ]
  },
  {
   "cell_type": "code",
   "execution_count": 45,
   "id": "dc888f38",
   "metadata": {},
   "outputs": [],
   "source": [
    "# create background for viz\n",
    "rate = figure(height=350, title=\"Yelp Rating\", toolbar_location=None,\n",
    "           tools=\"hover\", tooltips=\"@rating: @value\", x_range=(-0.5, 1.0))\n",
    "\n",
    "#create background for the pie of the predicted sentiment\n",
    "sent = figure(height=350, title=\"sentiment\", toolbar_location=None,\n",
    "           tools=\"hover\", tooltips=\"@sentiment: @value\")\n",
    "\n",
    "\n",
    "# create the pie chart\n",
    "#https://docs.bokeh.org/en/latest/docs/examples/topics/pie/pie.html\n",
    "rate.wedge(x=0, y=1, radius=0.4,\n",
    "        start_angle=cumsum('angle', include_zero=True), end_angle=cumsum('angle'),\n",
    "        line_color=\"white\", fill_color='color', legend_field='rating',\n",
    "        source=data)\n",
    "\n",
    "\n",
    "#create sentiment pie\n",
    "sent.wedge(x=0, y=1, radius=0.4,\n",
    "        start_angle=cumsum('angle', include_zero=True), end_angle=cumsum('angle'),\n",
    "        line_color=\"white\", fill_color='color', legend_field='sentiment',\n",
    "        source=d)\n",
    "\n",
    "#Not lableing the axis\n",
    "rate.axis.axis_label = None\n",
    "sent.axis.axis_label = None\n",
    "#not showing the axis\n",
    "rate.axis.visible = False\n",
    "sent.axis.visible = False\n",
    "#not puting grid lines on the backgroud\n",
    "rate.grid.grid_line_color = None\n",
    "sent.grid.grid_line_color = None\n",
    "\n",
    "#show plots\n",
    "#https://docs.bokeh.org/en/latest/docs/user_guide/basic/layouts.html\n",
    "\n",
    "#plot column of pies\n",
    "show(column(rate, sent))\n"
   ]
  },
  {
   "cell_type": "code",
   "execution_count": null,
   "id": "f0a29b2c",
   "metadata": {},
   "outputs": [],
   "source": []
  }
 ],
 "metadata": {
  "kernelspec": {
   "display_name": "Python 3 (ipykernel)",
   "language": "python",
   "name": "python3"
  },
  "language_info": {
   "codemirror_mode": {
    "name": "ipython",
    "version": 3
   },
   "file_extension": ".py",
   "mimetype": "text/x-python",
   "name": "python",
   "nbconvert_exporter": "python",
   "pygments_lexer": "ipython3",
   "version": "3.11.4"
  }
 },
 "nbformat": 4,
 "nbformat_minor": 5
}
