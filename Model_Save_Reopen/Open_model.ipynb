{
 "cells": [
  {
   "cell_type": "code",
   "execution_count": 7,
   "id": "4bdb4768",
   "metadata": {},
   "outputs": [],
   "source": [
    "import pandas as pd\n",
    "from sklearn.model_selection import train_test_split\n",
    "from sklearn.metrics import accuracy_score, classification_report, confusion_matrix\n",
    "import pickle"
   ]
  },
  {
   "cell_type": "code",
   "execution_count": 8,
   "id": "7ef1c374",
   "metadata": {},
   "outputs": [],
   "source": [
    "#read binary model\n",
    "model= pickle.load(open('Trained1.sav', 'rb'))"
   ]
  },
  {
   "cell_type": "code",
   "execution_count": 10,
   "id": "2a5a416e",
   "metadata": {},
   "outputs": [],
   "source": [
    "new = [\"I don't like this\"]\n",
    "second = ['I love this']\n",
    "third = ['This is the best thing ever']\n",
    "ori = [\"i dont know i feel so lost\"]"
   ]
  },
  {
   "cell_type": "code",
   "execution_count": 13,
   "id": "84042d9a",
   "metadata": {},
   "outputs": [],
   "source": [
    "from sklearn.feature_extraction.text import CountVectorizer\n",
    "import xgboost as xgb\n",
    "vectorizer = CountVectorizer(max_features=5000, stop_words='english')\n",
    "import joblib\n",
    "#https://stackoverflow.com/questions/58344350/how-to-save-and-load-vocabulary-from-a-countvectorizer\n",
    "# loading pickled vectorizer\n",
    "vectorizer = joblib.load(\"vectorizer.pkl\")"
   ]
  },
  {
   "cell_type": "code",
   "execution_count": 14,
   "id": "7aa3f1cd",
   "metadata": {},
   "outputs": [],
   "source": [
    "new_data = vectorizer.transform(new)"
   ]
  },
  {
   "cell_type": "code",
   "execution_count": 15,
   "id": "d0c62b7e",
   "metadata": {},
   "outputs": [
    {
     "name": "stdout",
     "output_type": "stream",
     "text": [
      "[0]\n",
      "negative tweet\n"
     ]
    }
   ],
   "source": [
    "prediction = model.predict(new_data)\n",
    "print(prediction)\n",
    "if (prediction[0]== 0):\n",
    "    print('negative tweet')\n",
    "else:\n",
    "    print('positive tweet')"
   ]
  }
 ],
 "metadata": {
  "kernelspec": {
   "display_name": "Python 3 (ipykernel)",
   "language": "python",
   "name": "python3"
  },
  "language_info": {
   "codemirror_mode": {
    "name": "ipython",
    "version": 3
   },
   "file_extension": ".py",
   "mimetype": "text/x-python",
   "name": "python",
   "nbconvert_exporter": "python",
   "pygments_lexer": "ipython3",
   "version": "3.11.4"
  }
 },
 "nbformat": 4,
 "nbformat_minor": 5
}
